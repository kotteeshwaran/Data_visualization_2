{
 "metadata": {
  "language_info": {
   "codemirror_mode": {
    "name": "ipython",
    "version": 3
   },
   "file_extension": ".py",
   "mimetype": "text/x-python",
   "name": "python",
   "nbconvert_exporter": "python",
   "pygments_lexer": "ipython3",
   "version": "3.7.6-final"
  },
  "orig_nbformat": 2,
  "kernelspec": {
   "name": "python37664bitbaseconda28d20ef32afc4f66977c522e5698d042",
   "display_name": "Python 3.7.6 64-bit ('base': conda)"
  }
 },
 "nbformat": 4,
 "nbformat_minor": 2,
 "cells": [
  {
   "cell_type": "code",
   "execution_count": 1,
   "metadata": {},
   "outputs": [],
   "source": [
    "import folium\n",
    "import pandas as pd"
   ]
  },
  {
   "cell_type": "code",
   "execution_count": 2,
   "metadata": {},
   "outputs": [],
   "source": [
    "country_geo = 'D:\\data_science\\Data visulaization\\countries.json'"
   ]
  },
  {
   "cell_type": "code",
   "execution_count": 3,
   "metadata": {},
   "outputs": [
    {
     "output_type": "execute_result",
     "data": {
      "text/plain": "(5656458, 6)"
     },
     "metadata": {},
     "execution_count": 3
    }
   ],
   "source": [
    "data = pd.read_csv('D:\\data_science\\Data visulaization\\Indicators.csv')\n",
    "data.shape"
   ]
  },
  {
   "cell_type": "code",
   "execution_count": 4,
   "metadata": {},
   "outputs": [
    {
     "output_type": "execute_result",
     "data": {
      "text/plain": "  CountryName CountryCode                                      IndicatorName  \\\n0  Arab World         ARB  Adolescent fertility rate (births per 1,000 wo...   \n1  Arab World         ARB  Age dependency ratio (% of working-age populat...   \n2  Arab World         ARB  Age dependency ratio, old (% of working-age po...   \n3  Arab World         ARB  Age dependency ratio, young (% of working-age ...   \n4  Arab World         ARB        Arms exports (SIPRI trend indicator values)   \n\n    IndicatorCode  Year         Value  \n0     SP.ADO.TFRT  1960  1.335609e+02  \n1     SP.POP.DPND  1960  8.779760e+01  \n2  SP.POP.DPND.OL  1960  6.634579e+00  \n3  SP.POP.DPND.YG  1960  8.102333e+01  \n4  MS.MIL.XPRT.KD  1960  3.000000e+06  ",
      "text/html": "<div>\n<style scoped>\n    .dataframe tbody tr th:only-of-type {\n        vertical-align: middle;\n    }\n\n    .dataframe tbody tr th {\n        vertical-align: top;\n    }\n\n    .dataframe thead th {\n        text-align: right;\n    }\n</style>\n<table border=\"1\" class=\"dataframe\">\n  <thead>\n    <tr style=\"text-align: right;\">\n      <th></th>\n      <th>CountryName</th>\n      <th>CountryCode</th>\n      <th>IndicatorName</th>\n      <th>IndicatorCode</th>\n      <th>Year</th>\n      <th>Value</th>\n    </tr>\n  </thead>\n  <tbody>\n    <tr>\n      <th>0</th>\n      <td>Arab World</td>\n      <td>ARB</td>\n      <td>Adolescent fertility rate (births per 1,000 wo...</td>\n      <td>SP.ADO.TFRT</td>\n      <td>1960</td>\n      <td>1.335609e+02</td>\n    </tr>\n    <tr>\n      <th>1</th>\n      <td>Arab World</td>\n      <td>ARB</td>\n      <td>Age dependency ratio (% of working-age populat...</td>\n      <td>SP.POP.DPND</td>\n      <td>1960</td>\n      <td>8.779760e+01</td>\n    </tr>\n    <tr>\n      <th>2</th>\n      <td>Arab World</td>\n      <td>ARB</td>\n      <td>Age dependency ratio, old (% of working-age po...</td>\n      <td>SP.POP.DPND.OL</td>\n      <td>1960</td>\n      <td>6.634579e+00</td>\n    </tr>\n    <tr>\n      <th>3</th>\n      <td>Arab World</td>\n      <td>ARB</td>\n      <td>Age dependency ratio, young (% of working-age ...</td>\n      <td>SP.POP.DPND.YG</td>\n      <td>1960</td>\n      <td>8.102333e+01</td>\n    </tr>\n    <tr>\n      <th>4</th>\n      <td>Arab World</td>\n      <td>ARB</td>\n      <td>Arms exports (SIPRI trend indicator values)</td>\n      <td>MS.MIL.XPRT.KD</td>\n      <td>1960</td>\n      <td>3.000000e+06</td>\n    </tr>\n  </tbody>\n</table>\n</div>"
     },
     "metadata": {},
     "execution_count": 4
    }
   ],
   "source": [
    "data.head()"
   ]
  },
  {
   "cell_type": "code",
   "execution_count": 5,
   "metadata": {},
   "outputs": [
    {
     "output_type": "execute_result",
     "data": {
      "text/plain": "                                     CountryName CountryCode  \\\n5026275                               Arab World         ARB   \n5026788                   Caribbean small states         CSS   \n5027295           Central Europe and the Baltics         CEB   \n5027870  East Asia & Pacific (all income levels)         EAS   \n5028456    East Asia & Pacific (developing only)         EAP   \n\n                                  IndicatorName   IndicatorCode  Year  \\\n5026275  CO2 emissions (metric tons per capita)  EN.ATM.CO2E.PC  2011   \n5026788  CO2 emissions (metric tons per capita)  EN.ATM.CO2E.PC  2011   \n5027295  CO2 emissions (metric tons per capita)  EN.ATM.CO2E.PC  2011   \n5027870  CO2 emissions (metric tons per capita)  EN.ATM.CO2E.PC  2011   \n5028456  CO2 emissions (metric tons per capita)  EN.ATM.CO2E.PC  2011   \n\n            Value  \n5026275  4.724500  \n5026788  9.692960  \n5027295  6.911131  \n5027870  5.859548  \n5028456  5.302499  ",
      "text/html": "<div>\n<style scoped>\n    .dataframe tbody tr th:only-of-type {\n        vertical-align: middle;\n    }\n\n    .dataframe tbody tr th {\n        vertical-align: top;\n    }\n\n    .dataframe thead th {\n        text-align: right;\n    }\n</style>\n<table border=\"1\" class=\"dataframe\">\n  <thead>\n    <tr style=\"text-align: right;\">\n      <th></th>\n      <th>CountryName</th>\n      <th>CountryCode</th>\n      <th>IndicatorName</th>\n      <th>IndicatorCode</th>\n      <th>Year</th>\n      <th>Value</th>\n    </tr>\n  </thead>\n  <tbody>\n    <tr>\n      <th>5026275</th>\n      <td>Arab World</td>\n      <td>ARB</td>\n      <td>CO2 emissions (metric tons per capita)</td>\n      <td>EN.ATM.CO2E.PC</td>\n      <td>2011</td>\n      <td>4.724500</td>\n    </tr>\n    <tr>\n      <th>5026788</th>\n      <td>Caribbean small states</td>\n      <td>CSS</td>\n      <td>CO2 emissions (metric tons per capita)</td>\n      <td>EN.ATM.CO2E.PC</td>\n      <td>2011</td>\n      <td>9.692960</td>\n    </tr>\n    <tr>\n      <th>5027295</th>\n      <td>Central Europe and the Baltics</td>\n      <td>CEB</td>\n      <td>CO2 emissions (metric tons per capita)</td>\n      <td>EN.ATM.CO2E.PC</td>\n      <td>2011</td>\n      <td>6.911131</td>\n    </tr>\n    <tr>\n      <th>5027870</th>\n      <td>East Asia &amp; Pacific (all income levels)</td>\n      <td>EAS</td>\n      <td>CO2 emissions (metric tons per capita)</td>\n      <td>EN.ATM.CO2E.PC</td>\n      <td>2011</td>\n      <td>5.859548</td>\n    </tr>\n    <tr>\n      <th>5028456</th>\n      <td>East Asia &amp; Pacific (developing only)</td>\n      <td>EAP</td>\n      <td>CO2 emissions (metric tons per capita)</td>\n      <td>EN.ATM.CO2E.PC</td>\n      <td>2011</td>\n      <td>5.302499</td>\n    </tr>\n  </tbody>\n</table>\n</div>"
     },
     "metadata": {},
     "execution_count": 5
    }
   ],
   "source": [
    "hist_indicator = 'CO2 emissions \\(metric'\n",
    "hist_year = 2011\n",
    "\n",
    "mask1 = data['IndicatorName'].str.contains(hist_indicator) \n",
    "mask2 = data['Year'].isin([hist_year])\n",
    "\n",
    "# apply our mask\n",
    "stage = data[mask1 & mask2]\n",
    "stage.head()"
   ]
  },
  {
   "cell_type": "code",
   "execution_count": 6,
   "metadata": {},
   "outputs": [
    {
     "output_type": "execute_result",
     "data": {
      "text/plain": "        CountryCode     Value\n5026275         ARB  4.724500\n5026788         CSS  9.692960\n5027295         CEB  6.911131\n5027870         EAS  5.859548\n5028456         EAP  5.302499",
      "text/html": "<div>\n<style scoped>\n    .dataframe tbody tr th:only-of-type {\n        vertical-align: middle;\n    }\n\n    .dataframe tbody tr th {\n        vertical-align: top;\n    }\n\n    .dataframe thead th {\n        text-align: right;\n    }\n</style>\n<table border=\"1\" class=\"dataframe\">\n  <thead>\n    <tr style=\"text-align: right;\">\n      <th></th>\n      <th>CountryCode</th>\n      <th>Value</th>\n    </tr>\n  </thead>\n  <tbody>\n    <tr>\n      <th>5026275</th>\n      <td>ARB</td>\n      <td>4.724500</td>\n    </tr>\n    <tr>\n      <th>5026788</th>\n      <td>CSS</td>\n      <td>9.692960</td>\n    </tr>\n    <tr>\n      <th>5027295</th>\n      <td>CEB</td>\n      <td>6.911131</td>\n    </tr>\n    <tr>\n      <th>5027870</th>\n      <td>EAS</td>\n      <td>5.859548</td>\n    </tr>\n    <tr>\n      <th>5028456</th>\n      <td>EAP</td>\n      <td>5.302499</td>\n    </tr>\n  </tbody>\n</table>\n</div>"
     },
     "metadata": {},
     "execution_count": 6
    }
   ],
   "source": [
    "plot_data = stage[['CountryCode','Value']]\n",
    "plot_data.head()"
   ]
  },
  {
   "cell_type": "code",
   "execution_count": 7,
   "metadata": {},
   "outputs": [],
   "source": [
    "hist_indicator = stage.iloc[0]['IndicatorName']"
   ]
  },
  {
   "cell_type": "code",
   "execution_count": 8,
   "metadata": {},
   "outputs": [],
   "source": [
    "map = folium.Map(location=[100, 0], zoom_start=1.5)"
   ]
  },
  {
   "cell_type": "code",
   "execution_count": 9,
   "metadata": {},
   "outputs": [],
   "source": [
    "map.choropleth(geo_data=country_geo, data=plot_data,\n",
    "             columns=['CountryCode', 'Value'],\n",
    "             key_on='feature.id',\n",
    "             fill_color='YlGnBu', fill_opacity=0.7, line_opacity=0.2,\n",
    "             legend_name=hist_indicator)"
   ]
  },
  {
   "cell_type": "code",
   "execution_count": 10,
   "metadata": {},
   "outputs": [],
   "source": [
    "map.save('plot_data.html')"
   ]
  },
  {
   "cell_type": "code",
   "execution_count": 11,
   "metadata": {},
   "outputs": [
    {
     "output_type": "execute_result",
     "data": {
      "text/plain": "<IPython.lib.display.IFrame at 0x26c8ca9b288>",
      "text/html": "\n        <iframe\n            width=\"700\"\n            height=\"450\"\n            src=\"plot_data.html\"\n            frameborder=\"0\"\n            allowfullscreen\n        ></iframe>\n        "
     },
     "metadata": {},
     "execution_count": 11
    }
   ],
   "source": [
    "from IPython.display import IFrame\n",
    "IFrame(src ='plot_data.html', width=700,height=450)"
   ]
  },
  {
   "cell_type": "code",
   "execution_count": null,
   "metadata": {},
   "outputs": [],
   "source": []
  }
 ]
}